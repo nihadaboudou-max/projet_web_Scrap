{
  "cells": [
    {
      "cell_type": "code",
      "execution_count": 51,
      "metadata": {
        "id": "vvEr_sDY5WPz"
      },
      "outputs": [],
      "source": [
        "## libraby\n",
        "#!pip install beautifulsoup4 lxml requests pandas matplotlib numpy\n",
        "#! pip install seaborn\n",
        "#!pip install sqlite3"
      ]
    },
    {
      "cell_type": "code",
      "execution_count": 52,
      "metadata": {},
      "outputs": [],
      "source": [
        "from bs4 import BeautifulSoup\n",
        "import requests\n",
        "import pandas as pd\n",
        "import matplotlib.pyplot as plt\n",
        "import numpy as np"
      ]
    },
    {
      "cell_type": "markdown",
      "metadata": {
        "id": "Ln6VKgnQAddm"
      },
      "source": [
        "**Obtenir le site Web et extraire les données**\n",
        "\n",
        "webpage = requests.get(\"...\") : télécharge la page web à l’URL donnée et stocke la réponse HTTP (son contenu, son code de statut, etc.) dans la variable webpage.\n",
        "\n",
        "soup = BeautifulSoup(webpage.content, \"html.parser\") : transforme le HTML brut de webpage en un objet BeautifulSoup pour pouvoir parcourir et extraire facilement des éléments de la page."
      ]
    },
    {
      "cell_type": "code",
      "execution_count": 53,
      "metadata": {
        "id": "CB0tPPUKAUNK"
      },
      "outputs": [],
      "source": [
        "\n",
        "webpage = requests.get(\"https://content.codecademy.com/courses/beautifulsoup/cacao/index.html\")\n",
        "\n",
        "\n",
        "soup = BeautifulSoup(webpage.content, \"html.parser\")"
      ]
    },
    {
      "cell_type": "markdown",
      "metadata": {
        "id": "mqRjwhSJ0J-Q"
      },
      "source": []
    },
    {
      "cell_type": "markdown",
      "metadata": {
        "id": "KkODJAzqKsav"
      },
      "source": [
        "Ici, nous utilisons la fonction **.find_all** sur la soup  variable que nous avons déclarée auparavant, cette soup  variable a le contenu du site Web, nous devons donc trouver ce dont nous avons besoin.\n",
        "\n",
        "\n",
        "Dans le code, vous pouvez modifier \"class\"n'importe quelle balise HTML comme \"id\"et \"class-name\"n'importe quel nom de classe/id spécifique que vous souhaitez trouver."
      ]
    },
    {
      "cell_type": "code",
      "execution_count": 54,
      "metadata": {
        "id": "wVw0Di9dATyh"
      },
      "outputs": [],
      "source": [
        "#Stockez tout le texte en HTML avec la classe \"Rating\",\"CocoaPercent\" et Company\n",
        "rating_column = soup.find_all(attrs={\"class\": \"Rating\"})\n",
        "cocoa_percent_tags = soup.find_all(attrs={\"class\": \"CocoaPercent\"})\n",
        "company_column=soup.find_all(attrs={\"class\": \"Company\"})\n",
        "origin_column=soup.find_all(attrs={\"class\": \"Origin\"})\n",
        "\n"
      ]
    },
    {
      "cell_type": "code",
      "execution_count": 55,
      "metadata": {
        "id": "1YBAUc_PTsKx"
      },
      "outputs": [],
      "source": [
        "#rating_column"
      ]
    },
    {
      "cell_type": "code",
      "execution_count": 56,
      "metadata": {
        "id": "eqPWzYJJ6D6E"
      },
      "outputs": [],
      "source": [
        "#type(rating_column)"
      ]
    },
    {
      "cell_type": "code",
      "execution_count": 57,
      "metadata": {},
      "outputs": [
        {
          "name": "stdout",
          "output_type": "stream",
          "text": [
            "Données récupérées: 1795 lignes, 4 colonnes\n"
          ]
        }
      ],
      "source": [
        "# importation et appel de fonction pour faire scrapping d'une page web\n",
        "from scrapping.scrapping_cas_entete import Scrapping\n",
        "url=\"https://content.codecademy.com/courses/beautifulsoup/cacao/index.html\"\n",
        "colonnes={\n",
        "    \"Rating\":{\"class\": \"Rating\"},\n",
        "    \"CocoaPercentage\":{\"class\": \"CocoaPercent\"},\n",
        "    \"Company\":{\"class\": \"Company\"},\n",
        "    \"Origine spécifique du harirot\":{\"class\": \"Origin\"}\n",
        "}\n",
        "df=Scrapping.scrape_table(url,colonnes,skip_header=True)\n",
        "if not df.empty:\n",
        "    print(f\"Données récupérées: {df.shape[0]} lignes, {df.shape[1]} colonnes\")\n",
        "    "
      ]
    },
    {
      "cell_type": "code",
      "execution_count": 58,
      "metadata": {},
      "outputs": [
        {
          "data": {
            "text/html": [
              "<div>\n",
              "<style scoped>\n",
              "    .dataframe tbody tr th:only-of-type {\n",
              "        vertical-align: middle;\n",
              "    }\n",
              "\n",
              "    .dataframe tbody tr th {\n",
              "        vertical-align: top;\n",
              "    }\n",
              "\n",
              "    .dataframe thead th {\n",
              "        text-align: right;\n",
              "    }\n",
              "</style>\n",
              "<table border=\"1\" class=\"dataframe\">\n",
              "  <thead>\n",
              "    <tr style=\"text-align: right;\">\n",
              "      <th></th>\n",
              "      <th>Rating</th>\n",
              "      <th>CocoaPercentage</th>\n",
              "      <th>Company</th>\n",
              "      <th>Origine spécifique du harirot</th>\n",
              "    </tr>\n",
              "  </thead>\n",
              "  <tbody>\n",
              "    <tr>\n",
              "      <th>0</th>\n",
              "      <td>3.75</td>\n",
              "      <td>63%</td>\n",
              "      <td>A. Morin</td>\n",
              "      <td>Agua Grande</td>\n",
              "    </tr>\n",
              "    <tr>\n",
              "      <th>1</th>\n",
              "      <td>2.75</td>\n",
              "      <td>70%</td>\n",
              "      <td>A. Morin</td>\n",
              "      <td>Kpime</td>\n",
              "    </tr>\n",
              "    <tr>\n",
              "      <th>2</th>\n",
              "      <td>3</td>\n",
              "      <td>70%</td>\n",
              "      <td>A. Morin</td>\n",
              "      <td>Atsane</td>\n",
              "    </tr>\n",
              "    <tr>\n",
              "      <th>3</th>\n",
              "      <td>3.5</td>\n",
              "      <td>70%</td>\n",
              "      <td>A. Morin</td>\n",
              "      <td>Akata</td>\n",
              "    </tr>\n",
              "    <tr>\n",
              "      <th>4</th>\n",
              "      <td>3.5</td>\n",
              "      <td>70%</td>\n",
              "      <td>A. Morin</td>\n",
              "      <td>Quilla</td>\n",
              "    </tr>\n",
              "  </tbody>\n",
              "</table>\n",
              "</div>"
            ],
            "text/plain": [
              "  Rating CocoaPercentage   Company Origine spécifique du harirot\n",
              "0   3.75             63%  A. Morin                   Agua Grande\n",
              "1   2.75             70%  A. Morin                         Kpime\n",
              "2      3             70%  A. Morin                        Atsane\n",
              "3    3.5             70%  A. Morin                         Akata\n",
              "4    3.5             70%  A. Morin                        Quilla"
            ]
          },
          "execution_count": 58,
          "metadata": {},
          "output_type": "execute_result"
        }
      ],
      "source": [
        "df.head(5)"
      ]
    },
    {
      "cell_type": "code",
      "execution_count": 59,
      "metadata": {},
      "outputs": [],
      "source": [
        "# importation de la fonction déterminations de doublons\n",
        "from data_exploration.doublons import Doublons"
      ]
    },
    {
      "cell_type": "code",
      "execution_count": 60,
      "metadata": {},
      "outputs": [
        {
          "data": {
            "text/plain": [
              "np.int64(0)"
            ]
          },
          "execution_count": 60,
          "metadata": {},
          "output_type": "execute_result"
        }
      ],
      "source": [
        "# appelle de la fonction\n",
        "Doublons.valeur_double(df)"
      ]
    },
    {
      "cell_type": "code",
      "execution_count": 61,
      "metadata": {},
      "outputs": [
        {
          "data": {
            "text/plain": [
              "Rating                           0\n",
              "CocoaPercentage                  0\n",
              "Company                          0\n",
              "Origine spécifique du harirot    0\n",
              "dtype: int64"
            ]
          },
          "execution_count": 61,
          "metadata": {},
          "output_type": "execute_result"
        }
      ],
      "source": [
        "from data_exploration.valeur_manquante import ValeurManquante\n",
        "ValeurManquante.calcul_valeur_manquante(df)"
      ]
    },
    {
      "cell_type": "code",
      "execution_count": 62,
      "metadata": {},
      "outputs": [
        {
          "data": {
            "text/html": [
              "<div>\n",
              "<style scoped>\n",
              "    .dataframe tbody tr th:only-of-type {\n",
              "        vertical-align: middle;\n",
              "    }\n",
              "\n",
              "    .dataframe tbody tr th {\n",
              "        vertical-align: top;\n",
              "    }\n",
              "\n",
              "    .dataframe thead th {\n",
              "        text-align: right;\n",
              "    }\n",
              "</style>\n",
              "<table border=\"1\" class=\"dataframe\">\n",
              "  <thead>\n",
              "    <tr style=\"text-align: right;\">\n",
              "      <th></th>\n",
              "    </tr>\n",
              "  </thead>\n",
              "  <tbody>\n",
              "  </tbody>\n",
              "</table>\n",
              "</div>"
            ],
            "text/plain": [
              "Empty DataFrame\n",
              "Columns: []\n",
              "Index: []"
            ]
          },
          "execution_count": 62,
          "metadata": {},
          "output_type": "execute_result"
        }
      ],
      "source": [
        "# détection des valeur abberante avec la fonction de calcul zscore\n",
        "from anomalie.zscore import Zscore\n",
        "Zscore.calcul_zscore(df)"
      ]
    },
    {
      "cell_type": "code",
      "execution_count": 63,
      "metadata": {},
      "outputs": [
        {
          "data": {
            "image/png": "[encoded data removed]",
            "text/plain": [
              "<Figure size 800x500 with 1 Axes>"
            ]
          },
          "metadata": {},
          "output_type": "display_data"
        }
      ],
      "source": [
        "# Importation et appelle de la fonction pour visualiser les données\n",
        "from visualisation.pyplot_seaborn import Visualisation\n",
        "Visualisation.visualiser_donnees(df.head(30),x=\"Company\",y=\"Rating\",kind=\"bar\",title=\"Poucentage de production par compagnie\")"
      ]
    },
    {
      "cell_type": "code",
      "execution_count": 64,
      "metadata": {},
      "outputs": [
        {
          "data": {
            "image/png": "[encoded data removed]",
            "text/plain": [
              "<Figure size 800x500 with 1 Axes>"
            ]
          },
          "metadata": {},
          "output_type": "display_data"
        }
      ],
      "source": [
        "Visualisation.visualiser_donnees(df.head(30),x=\"Company\",y=\"Rating\",kind=\"hist\",title=\"Poucentage de production par compagnie\")"
      ]
    },
    {
      "cell_type": "code",
      "execution_count": 65,
      "metadata": {},
      "outputs": [
        {
          "name": "stdout",
          "output_type": "stream",
          "text": [
            "Données enregistrées dans resultat_scrapping.csv\n"
          ]
        }
      ],
      "source": [
        "from load.exportation_csv import ExportationCsv\n",
        "ExportationCsv.charger_csv(df,\"resultat_scrapping.csv\")"
      ]
    },
    {
      "cell_type": "code",
      "execution_count": 66,
      "metadata": {},
      "outputs": [
        {
          "name": "stdout",
          "output_type": "stream",
          "text": [
            "✅ Données enregistrées dans la table 'cacao' de resultat.db\n"
          ]
        }
      ],
      "source": [
        "from load.exportation_base_donnee import ExportationDB\n",
        "ExportationDB.charger_sqlite(df,\"resultat.db\",\"cacao\")"
      ]
    },
    {
      "cell_type": "code",
      "execution_count": 67,
      "metadata": {
        "id": "zeQuYfHE2U0A"
      },
      "outputs": [],
      "source": [
        "#df.to_csv('/content/export/GfG.csv', index = True)\n",
        "df.to_csv('donnee_recuperer.csv', index=False)"
      ]
    },
    {
      "cell_type": "markdown",
      "metadata": {
        "id": "FNVx4Qli0XuU"
      },
      "source": [
        "# **Méthodes utiles de BeautifulSoup**"
      ]
    },
    {
      "cell_type": "markdown",
      "metadata": {
        "id": "7HITmiHx4Lxm"
      },
      "source": [
        "# **A. Rechercher des éléments**\n"
      ]
    },
    {
      "cell_type": "markdown",
      "metadata": {
        "id": "dByeDz810NNZ"
      },
      "source": [
        "| Méthode                          | Ce qu’elle fait                                                                        |\n",
        "| -------------------------------- | -------------------------------------------------------------------------------------- |\n",
        "| `find(name, attrs, string)`      | Retourne **le premier** élément qui correspond (par nom de balise, attributs, texte).  |\n",
        "| `find_all(name, attrs, string)`  | Retourne **tous** les éléments correspondants (liste). Alias : `findAll`.              |\n",
        "| `select(css_selector)`           | Retourne les éléments qui matchent un **sélecteur CSS** (ex. `\"table.data td.price\"`). |\n",
        "| `select_one(css_selector)`       | Retourne **le premier** élément qui match un sélecteur CSS.                            |\n",
        "| `find_parent(name, attrs)`       | Premier **parent** qui matche.                                                         |\n",
        "| `find_parents(name, attrs)`      | **Tous les parents** qui matchent.                                                     |\n",
        "| `find_next(name, attrs)`         | Prochain élément **après** dans le flux qui matche.                                    |\n",
        "| `find_all_next(name, attrs)`     | **Tous** les suivants qui matchent.                                                    |\n",
        "| `find_previous(name, attrs)`     | Élément **avant** dans le flux qui matche.                                             |\n",
        "| `find_all_previous(name, attrs)` | **Tous** les précédents qui matchent.                                                  |\n"
      ]
    },
    {
      "cell_type": "markdown",
      "metadata": {
        "id": "71w9KK9e4A4A"
      },
      "source": [
        "**B. Naviguer dans l’arbre**"
      ]
    },
    {
      "cell_type": "markdown",
      "metadata": {
        "id": "qdj-J2ns38_K"
      },
      "source": [
        "| Méthode/Attribut                          | Ce qu’elle fait                                                |\n",
        "| ----------------------------------------- | -------------------------------------------------------------- |\n",
        "| `tag.parent` / `tag.parents`              | Accéder au parent / itérer sur tous les parents.               |\n",
        "| `tag.next_sibling` / `previous_sibling`   | Frère **suivant** / **précédent** immédiat.                    |\n",
        "| `tag.next_siblings` / `previous_siblings` | Itérateurs sur **tous** les frères suivants/précédents.        |\n",
        "| `tag.children` / `tag.descendants`        | Itérateurs sur **enfants directs** / **tous les descendants**. |\n",
        "| `tag.contents`                            | **Liste** des enfants directs.                                 |\n",
        "| `soup.title`, `soup.head`, `soup.body`    | Accès rapide au **premier** tag de ce type.                    |\n"
      ]
    }
  ],
  "metadata": {
    "colab": {
      "provenance": []
    },
    "kernelspec": {
      "display_name": ".venv (3.11.9)",
      "language": "python",
      "name": "python3"
    },
    "language_info": {
      "codemirror_mode": {
        "name": "ipython",
        "version": 3
      },
      "file_extension": ".py",
      "mimetype": "text/x-python",
      "name": "python",
      "nbconvert_exporter": "python",
      "pygments_lexer": "ipython3",
      "version": "3.11.9"
    }
  },
  "nbformat": 4,
  "nbformat_minor": 0
}
